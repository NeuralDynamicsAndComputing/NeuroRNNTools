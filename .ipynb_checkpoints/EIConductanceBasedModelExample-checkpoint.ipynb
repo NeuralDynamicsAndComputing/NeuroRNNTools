{
 "cells": [
  {
   "cell_type": "code",
   "execution_count": 1,
   "id": "83ee001c-c76e-4788-bb72-a252ec735830",
   "metadata": {
    "tags": []
   },
   "outputs": [
    {
     "name": "stdout",
     "output_type": "stream",
     "text": [
      "Device = mps\n"
     ]
    }
   ],
   "source": [
    "# Import packages\n",
    "%load_ext autoreload\n",
    "%autoreload \n",
    "\n",
    "import numpy as np\n",
    "import matplotlib.pyplot as plt\n",
    "import torch\n",
    "from scipy.optimize import curve_fit\n",
    "import seaborn as sns\n",
    "from time import time as tm\n",
    "from NeuroRNN import RateModel\n",
    "from NeuroRNN import SpikingModel\n",
    "from utils import GetBlockErdosRenyi, GetSpikeCounts, PoissonProcess, GetOneAngle, ConvWithExp, ToNP\n",
    "\n",
    "\n",
    "# Choose a device\n",
    "if torch.cuda.is_available():\n",
    "    device = 'cuda'\n",
    "elif torch.backends.mps.is_available():\n",
    "    device = 'mps'\n",
    "else:\n",
    "    device = 'cpu'\n",
    "print('Device =',device)\n",
    "\n"
   ]
  },
  {
   "cell_type": "code",
   "execution_count": 2,
   "id": "9e1f231a-21f3-4d11-8b5f-1aa098989c06",
   "metadata": {
    "tags": []
   },
   "outputs": [],
   "source": [
    "### These are all of the parameters that you might want to change.\n",
    "\n",
    "# Number of neurons in recurrent net\n",
    "N = 5000\n",
    "\n",
    "# Number of sims to run in parallel\n",
    "batch_size = 1\n",
    "\n",
    "# Duration of simulation in ms\n",
    "T = 1250\n",
    "dt = 0.1\n",
    "\n",
    "# Burn-in period for compring time averages and rates\n",
    "Tburn = 250\n",
    "\n",
    "# Number of excitatory, inhibitory, and external neurons\n",
    "Ne = int(N*.8)\n",
    "Ni = N-Ne\n",
    "Nx = int(N*.2)\n",
    "\n",
    "# Reversal potentials\n",
    "Ee = 0\n",
    "Ei = -80.0\n",
    "E = np.zeros(N)\n",
    "E[:Ne] = Ee\n",
    "E[Ne:] = Ei\n",
    "\n",
    "# Connection weights from current based sim\n",
    "V0=-72.0\n",
    "jee = 25.0/(Ee-V0)\n",
    "jei = -150.0/(Ei-V0)\n",
    "jie = 112.5/(Ee-V0)\n",
    "jii = -250.0/(Ei-V0)\n",
    "jex = 180.0/(Ee-V0)\n",
    "jix = 135.0/(Ee-V0)\n",
    "Jm = 15*np.array([[jee, jei], [jie, jii]])/np.sqrt(N)\n",
    "Jxm = 15*np.array([[jex], [jix]])/np.sqrt(N)\n",
    "\n",
    "\n",
    "# Connection probabilities\n",
    "p=0.1\n",
    "P = np.array([[p, p], [p, p]])\n",
    "Px = np.array([[p], [p]])\n",
    "\n",
    "# Synaptic timescales\n",
    "taue = 8.0\n",
    "taui = 4.0\n",
    "taux = 10.0\n",
    "\n",
    "# Rate of external population\n",
    "rx=10/1000\n",
    "\n",
    "# EIF Neuron Parameters\n",
    "NeuronParams = {}\n",
    "NeuronParams['taum'] = 15.0\n",
    "NeuronParams['EL'] = -72.0\n",
    "NeuronParams['Vth'] = -50.0\n",
    "NeuronParams['Vre'] = -75.0\n",
    "NeuronParams['VT'] = -55.0\n",
    "NeuronParams['DT'] = 1.0\n"
   ]
  },
  {
   "cell_type": "code",
   "execution_count": 3,
   "id": "d6b801dd-77ba-43ee-bf9b-93d6b76c2adf",
   "metadata": {
    "tags": []
   },
   "outputs": [
    {
     "name": "stdout",
     "output_type": "stream",
     "text": [
      "Time to generate connectivity: 0.3176460266113281 s\n",
      "Time to generate external spike trains and currents: 0.11074590682983398\n"
     ]
    }
   ],
   "source": [
    "### Set all of the parameters, and build model.\n",
    "\n",
    "with torch.no_grad():\n",
    "    \n",
    "    # Disctretized time\n",
    "    time = np.arange(0,T,dt)\n",
    "    Nt = len(time)\n",
    "    Nburn = int(Tburn/dt)\n",
    "\n",
    "    # Get connectivity matrix\n",
    "    t0=tm()\n",
    "    J = GetBlockErdosRenyi((Ne,Ni),Jm,P).to(device)\n",
    "    Jx = GetBlockErdosRenyi((Nx,),Jxm,Px,(Ne,Ni)).to(device)\n",
    "    tJ = tm()-t0\n",
    "    print('Time to generate connectivity:',tJ,'s')\n",
    "\n",
    "    # Array of synaptic timescales\n",
    "    tausyn = torch.zeros(N).to(device)\n",
    "    tausyn[:Ne] = taue\n",
    "    tausyn[Ne:] = taui\n",
    "\n",
    "    # Baseline input\n",
    "    x0 = torch.zeros(batch_size,N).to(device)\n",
    "\n",
    "    # Generate Poisson process external spike trains\n",
    "    # and convolve them with an exponential kernel to \n",
    "    # get synaptic output of external pop\n",
    "    t0=tm()\n",
    "    Sx = PoissonProcess(rx,dt,batch_size,Nx,T,'dense').to(device)\n",
    "    Yx = ConvWithExp(Sx,taux,dt)\n",
    "    tSx=tm()-t0\n",
    "    print('Time to generate external spike trains and currents:',tSx)\n",
    "\n",
    "    # Build model\n",
    "    model = SpikingModel(J,tausyn,Jx,'EIF',NeuronParams).to(device)\n",
    "    \n",
    "\n"
   ]
  },
  {
   "cell_type": "code",
   "execution_count": 4,
   "id": "e2a0b6f3-3486-4ed6-afc1-1a69c347e7c2",
   "metadata": {},
   "outputs": [
    {
     "name": "stdout",
     "output_type": "stream",
     "text": [
      "Time for spiking sim = 29.303460121154785 s\n",
      "Mean E and I rates: 5.589000415056944 14.141000807285309 Hz\n"
     ]
    }
   ],
   "source": [
    "### Run simulation, store some results\n",
    "\n",
    "with torch.no_grad():\n",
    "    \n",
    "    t0=tm()\n",
    "    SimResults = model(x0,dt,Yx,T,Tburn=Tburn)\n",
    "    tSpikingSim = tm()-t0\n",
    "    print('Time for spiking sim =',tSpikingSim,'s')\n",
    "    \n",
    "    r = ToNP(SimResults['r'].squeeze())\n",
    "    re = r[:Ne]\n",
    "    ri = r[Ne:]\n",
    "    \n",
    "    print('Mean E and I rates:',1000*re.mean(),1000*ri.mean(),'Hz')\n",
    "\n",
    "    R=ToNP(model.recurrent_layer(SimResults['r']).squeeze())\n",
    "    X=ToNP(model.input_layer(Yx.mean(axis=1)).squeeze())\n",
    "    Z=R+X\n"
   ]
  },
  {
   "cell_type": "code",
   "execution_count": 5,
   "id": "755baf23-8dce-4b94-88f1-a2779763c788",
   "metadata": {
    "tags": []
   },
   "outputs": [
    {
     "name": "stdout",
     "output_type": "stream",
     "text": [
      "\n",
      "RELU best fit g = 0.0012947590134945175\n",
      "For a rate model with f(z)=z*(z>0), use: \n",
      "sqrt(N)*Jm=\n",
      " [[ 0.48553463 -2.91320778]\n",
      " [ 2.18490584 -4.8553463 ]] \n",
      "sqrt(N)*Jxm=\n",
      " [[3.49584934]\n",
      " [2.621887  ]]\n",
      "Recitifed affine best fit g = 0.002093957014090056 theta = 5.244933084287532\n",
      "For a rate model with f(z)=(z-theta)*(z>theta), use:\n",
      " theta= 0.010982664420276868 \n",
      "sqrt(N)*Jm=\n",
      " [[ 0.78523388 -4.71140328]\n",
      " [ 3.53355246 -7.8523388 ]] \n",
      "sqrt(N)*Jxm=\n",
      " [[5.65368394]\n",
      " [4.24026295]]\n",
      "\n",
      "Affine best fit g = 0.0010047335633609942 theta = -2.191986714284064\n",
      "For a rate model with f(z)=(z-theta), use:\n",
      " theta= -0.002202362622282585 \n",
      "sqrt(N)*Jm=\n",
      " [[ 0.37677509 -2.26065052]\n",
      " [ 1.69548789 -3.76775086]] \n",
      "sqrt(N)*Jxm=\n",
      " [[2.71278062]\n",
      " [2.03458547]]\n",
      "\n",
      "Linear best fit g = 0.0011208084191137468\n",
      "For a rate model with f(z)=z, use: \n",
      "sqrt(N)*Jm=\n",
      " [[ 0.42030316 -2.52181894]\n",
      " [ 1.89136421 -4.20303157]] \n",
      "sqrt(N)*Jxm=\n",
      " [[3.02618273]\n",
      " [2.26963705]]\n"
     ]
    },
    {
     "data": {
      "text/plain": [
       "[]"
      ]
     },
     "execution_count": 5,
     "metadata": {},
     "output_type": "execute_result"
    },
    {
     "data": {
      "image/png": "[encoded data removed]",
      "text/plain": [
       "<Figure size 640x480 with 1 Axes>"
      ]
     },
     "metadata": {},
     "output_type": "display_data"
    }
   ],
   "source": [
    "### This code cell fits f-I curves to the results of the simulation.\n",
    "### These f-I curves can be used for rate model approximations.\n",
    "\n",
    "# Fit an f-I curve to the data from simulation\n",
    "def fReLU(z, g):\n",
    "    return g*(z)*(z>0)\n",
    "params,_=curve_fit(fReLU, Z, r)\n",
    "gfitReLU=params[0]\n",
    "print('\\nRELU best fit g =',gfitReLU)\n",
    "print('For a rate model with f(z)=z*(z>0), use: \\nsqrt(N)*Jm=\\n',Jm*gfitReLU*np.sqrt(N),'\\nsqrt(N)*Jxm=\\n',Jxm*gfitReLU*np.sqrt(N))\n",
    "\n",
    "\n",
    "# Fit an f-I curve to the data from simulation\n",
    "def fAffineReLU(z, g, theta):\n",
    "    return g*(z-theta)*(z>theta)\n",
    "params,_=curve_fit(fAffineReLU, Z, r)\n",
    "gAffineReLU=params[0]\n",
    "thetaAffineReLU=params[1]\n",
    "print('Recitifed affine best fit g =',gAffineReLU,'theta =',thetaAffineReLU)\n",
    "print('For a rate model with f(z)=(z-theta)*(z>theta), use:\\n theta=',gAffineReLU*thetaAffineReLU,'\\nsqrt(N)*Jm=\\n',Jm*gAffineReLU*np.sqrt(N),'\\nsqrt(N)*Jxm=\\n',Jxm*gAffineReLU*np.sqrt(N))\n",
    "\n",
    "\n",
    "\n",
    "# Fit an f-I curve to the data from simulation\n",
    "def fAffine(z, g, theta):\n",
    "    return g*(z-theta)\n",
    "params,_=curve_fit(fAffine, Z, r)\n",
    "gfitAffine=params[0]\n",
    "thetafitAffine=params[1]\n",
    "print('\\nAffine best fit g =',gfitAffine,'theta =',thetafitAffine)\n",
    "print('For a rate model with f(z)=(z-theta), use:\\n theta=',gfitAffine*thetafitAffine,'\\nsqrt(N)*Jm=\\n',Jm*gfitAffine*np.sqrt(N),'\\nsqrt(N)*Jxm=\\n',Jxm*gfitAffine*np.sqrt(N))\n",
    "\n",
    "\n",
    "# Fit an f-I curve to the data from simulation\n",
    "def fLin(z, g):\n",
    "    return g*(z)\n",
    "params,_=curve_fit(fLin, Z, r)\n",
    "gfitLin=params[0]\n",
    "print('\\nLinear best fit g =',gfitLin)\n",
    "print('For a rate model with f(z)=z, use: \\nsqrt(N)*Jm=\\n',Jm*gfitLin*np.sqrt(N),'\\nsqrt(N)*Jxm=\\n',Jxm*gfitLin*np.sqrt(N))\n",
    "\n",
    "\n",
    "zplot=np.arange(Z.min(),Z.max(),.5)\n",
    "plt.figure()\n",
    "plt.plot(Z.flatten(),1000*r,'.')\n",
    "plt.plot(zplot,1000*fReLU(zplot,gfitReLU),'r:',label='relu')\n",
    "plt.plot(zplot,1000*fAffineReLU(zplot,gAffineReLU,thetaAffineReLU),'r--',label='rectified affine')\n",
    "plt.plot(zplot,1000*fLin(zplot,gfitLin),'b:',label='linear')\n",
    "plt.plot(zplot,1000*fAffine(zplot,gfitAffine,thetafitAffine),'b--',label='affine')\n",
    "plt.legend()\n",
    "plt.xlabel('total input (mV)')\n",
    "plt.ylabel('rate (Hz)')\n",
    "[]"
   ]
  }
 ],
 "metadata": {
  "kernelspec": {
   "display_name": "Python 3 (ipykernel)",
   "language": "python",
   "name": "python3"
  },
  "language_info": {
   "codemirror_mode": {
    "name": "ipython",
    "version": 3
   },
   "file_extension": ".py",
   "mimetype": "text/x-python",
   "name": "python",
   "nbconvert_exporter": "python",
   "pygments_lexer": "ipython3",
   "version": "3.11.5"
  }
 },
 "nbformat": 4,
 "nbformat_minor": 5
}
