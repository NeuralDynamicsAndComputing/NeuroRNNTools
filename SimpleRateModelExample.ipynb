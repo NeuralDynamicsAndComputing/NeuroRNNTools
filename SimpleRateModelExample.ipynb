{
 "cells": [
  {
   "cell_type": "code",
   "execution_count": 2,
   "id": "c729cf7a-09dc-4d8a-9b20-2515c7352e9a",
   "metadata": {
    "tags": []
   },
   "source": [
    "import numpy as np\n",
    "import matplotlib.pyplot as plt\n",
    "import torch\n",
    "from NeuroRNN import RateModel\n",
    "\n",
    "# Choose a device\n",
    "if torch.cuda.is_available():\n",
    "    device = 'cuda'\n",
    "elif torch.backends.mps.is_available():\n",
    "    device = 'mps'\n",
    "else:\n",
    "    device = 'cpu'\n",
    "print('Device =',device)\n"
   ],
   "outputs": []
  },
  {
   "cell_type": "code",
   "execution_count": 30,
   "id": "541d42e2-5f7b-43ea-84a1-b73dd11ed99a",
   "metadata": {
    "tags": []
   },
   "source": [
    "# Simulate a continuous time recurrent rate network\n",
    "\n",
    "# Number of hidden units\n",
    "N = 500\n",
    "\n",
    "# Number of input dimensions\n",
    "Nx = 100\n",
    "\n",
    "# Spectral radius of recurrent network\n",
    "# Choose smaller than 1 (e.g., 0.5) to get stable dynamics\n",
    "# Larger than 1 (e.g., 1.5) to get chaotic dynamics \n",
    "rho_recurrent = 1.5\n",
    "\n",
    "# Duration of simulation in continuous time \n",
    "# and time step to use\n",
    "T = 300\n",
    "dt = 0.1\n",
    "time = np.arange(0,T,dt)\n",
    "Nt=len(time)\n",
    "\n",
    "# Time constant of dyamics\n",
    "tau = 10\n",
    "\n",
    "# Eta value for Euler integration\n",
    "eta = dt/tau\n",
    "\n",
    "# Create a model\n",
    "model = RateModel(N, readin=Nx, rho_recurrent=rho_recurrent, eta=eta).to(device)\n",
    "\n",
    "# Use batch size of 1\n",
    "batch_size = 1\n",
    "\n",
    "# Use x=0 for now.\n",
    "x = torch.zeros(batch_size, Nt, Nx).to(device)\n",
    "\n",
    "# Initial hidden state away from zero to check stability\n",
    "# empirically\n",
    "r0 = .8*torch.randn(batch_size, N).to(device)\n",
    "\n",
    "# Run a forward pass\n",
    "r = model(x, initial_state = r0)\n",
    "\n",
    "# Plot some of the rate trajectories\n",
    "NumToPlot = 10\n",
    "plt.figure()\n",
    "plt.plot(time,r[0,:,:NumToPlot].detach().cpu().numpy())\n",
    "[]\n",
    "\n"
   ],
   "outputs": []
  },
  {
   "cell_type": "code",
   "execution_count": null,
   "id": "d73bb826-b350-429d-869d-0577eac22073",
   "metadata": {},
   "source": [],
   "outputs": []
  }
 ],
 "metadata": {
  "kernelspec": {
   "display_name": "Python 3 (ipykernel)",
   "language": "python",
   "name": "python3"
  },
  "language_info": {
   "codemirror_mode": {
    "name": "ipython",
    "version": 3
   },
   "file_extension": ".py",
   "mimetype": "text/x-python",
   "name": "python",
   "nbconvert_exporter": "python",
   "pygments_lexer": "ipython3",
   "version": "3.11.5"
  }
 },
 "nbformat": 4,
 "nbformat_minor": 5
}
