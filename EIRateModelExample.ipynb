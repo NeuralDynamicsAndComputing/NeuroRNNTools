{
 "cells": [
  {
   "cell_type": "code",
   "execution_count": 1,
   "id": "d4986cda-4f84-44d6-be78-6d1340a27942",
   "metadata": {},
   "outputs": [
    {
     "name": "stdout",
     "output_type": "stream",
     "text": [
      "Device = mps\n"
     ]
    }
   ],
   "source": [
    "# Import packages\n",
    "%load_ext autoreload\n",
    "%autoreload \n",
    "\n",
    "import numpy as np\n",
    "import matplotlib.pyplot as plt\n",
    "import torch\n",
    "from scipy.optimize import curve_fit\n",
    "import seaborn as sns\n",
    "from time import time as tm\n",
    "from NeuroRNN import RateModel\n",
    "from utils import GetBlockErdosRenyi, ToNP\n",
    "\n",
    "\n",
    "# Choose a device\n",
    "if torch.cuda.is_available():\n",
    "    device = 'cuda'\n",
    "elif torch.backends.mps.is_available():\n",
    "    device = 'mps'\n",
    "else:\n",
    "    device = 'cpu'\n",
    "print('Device =',device)\n",
    "\n"
   ]
  },
  {
   "cell_type": "code",
   "execution_count": 2,
   "id": "3dbc511e-9687-414c-ab5d-41cfdaf97300",
   "metadata": {},
   "outputs": [],
   "source": [
    "### These are all of the parameters that you might want to change.\n",
    "\n",
    "# Number of neurons in recurrent net\n",
    "N = 2000\n",
    "\n",
    "# Number of sims to run in parallel\n",
    "batch_size = 1\n",
    "\n",
    "# Duration of simulation in ms\n",
    "T = 1000\n",
    "dt = 0.25\n",
    "\n",
    "\n",
    "# Number of excitatory, inhibitory, and external neurons\n",
    "Ne = int(N*.8)\n",
    "Ni = N-Ne\n",
    "Nx = int(N*.2)\n",
    "\n",
    "# Connection weights\n",
    "jee = 0.48\n",
    "jei = -2.9\n",
    "jie = 2.2\n",
    "jii = -4.8\n",
    "jex = 3.5\n",
    "jix = 2.6\n",
    "\n",
    "# Connection probabilities\n",
    "p=0.1\n",
    "\n",
    "# Rate of external population\n",
    "rx0=10.0\n",
    "\n",
    "# Time constants\n",
    "taue = 20\n",
    "taui = 10\n"
   ]
  },
  {
   "cell_type": "code",
   "execution_count": 3,
   "id": "218c4ecd-c540-4311-85ed-75d6e6e63037",
   "metadata": {
    "tags": []
   },
   "outputs": [
    {
     "name": "stdout",
     "output_type": "stream",
     "text": [
      "Time to generate connectivity: 0.08608412742614746 s\n"
     ]
    }
   ],
   "source": [
    "### These are all of the parameters generated for sims\n",
    "\n",
    "with torch.no_grad():\n",
    "    \n",
    "    # Connection strengths and probabilities\n",
    "    J0 = np.array([[jee, jei], [jie, jii]])/np.sqrt(N)\n",
    "    Jx0 = np.array([[jex], [jix]])/np.sqrt(N)\n",
    "    P = np.array([[p, p], [p, p]])\n",
    "    Px = np.array([[p], [p]])\n",
    "    \n",
    "    \n",
    "    # Discretized time\n",
    "    time = np.arange(0,T,dt)\n",
    "    Nt = len(time)\n",
    "\n",
    "    # Get connectivity matrices\n",
    "    t0=tm()\n",
    "    J = GetBlockErdosRenyi((Ne,Ni),J0,P).to(device)\n",
    "    Jx = GetBlockErdosRenyi((Nx,),Jx0,Px,(Ne,Ni)).to(device)\n",
    "    tJ = tm()-t0\n",
    "    print('Time to generate connectivity:',tJ,'s')\n",
    "\n",
    "    # Array of synaptic timescales\n",
    "    tau = torch.zeros(N).to(device)\n",
    "    tau[:Ne] = taue\n",
    "    tau[Ne:] = taui\n",
    "    eta = dt/tau\n",
    "    \n",
    "    # External rates\n",
    "    rx = rx0 + torch.zeros(batch_size,Nx).to(device)\n",
    "    \n",
    "    # Create model\n",
    "    model = RateModel(J, Jx, f='relu', eta = eta).to(device)\n",
    "    \n",
    "    "
   ]
  },
  {
   "cell_type": "code",
   "execution_count": 4,
   "id": "c42c56b9-5f64-4136-810a-8641562bf1fd",
   "metadata": {
    "tags": []
   },
   "outputs": [
    {
     "name": "stdout",
     "output_type": "stream",
     "text": [
      "Time for rate sim: 0.7661020755767822 s\n",
      "Mean E and I rates from simulation: 6.8874645 14.646684 Hz\n"
     ]
    },
    {
     "data": {
      "text/plain": [
       "[]"
      ]
     },
     "execution_count": 4,
     "metadata": {},
     "output_type": "execute_result"
    }
   ],
   "source": [
    "\n",
    "with torch.no_grad():\n",
    "    \n",
    "    # Run simulation\n",
    "    t0=tm()\n",
    "    r = model(rx, Nt)\n",
    "    tRateSim = tm()-t0\n",
    "    print('Time for rate sim:',tRateSim,'s')\n",
    "\n",
    "    # Get e and i rates\n",
    "    re = ToNP(r[0,:,:Ne])\n",
    "    ri = ToNP(r[0,:,Ne:])   \n",
    "    \n",
    "    # Get mean rates at last time point (approx fixed point)\n",
    "    mre = re[-1,:].mean()\n",
    "    mri = ri[-1,:].mean()\n",
    "\n",
    "    print('Mean E and I rates from simulation:',mre,mri,'Hz')\n",
    "    \n",
    "    # Compute R, X, and Z (which we previously called T)\n",
    "    # Since X is not time-dependent, we need to tile it across time\n",
    "    R = ToNP(model.recurrent_layer(r[0,:,:]))\n",
    "    X = ToNP(model.input_layer(rx[0,:]))\n",
    "    X = np.tile(X,[Nt,1])\n",
    "    Z = X+R\n",
    "\n",
    "\n",
    "[]\n"
   ]
  },
  {
   "cell_type": "code",
   "execution_count": 5,
   "id": "fd17c739-8efc-410e-9b0f-db4e5a9970e6",
   "metadata": {
    "tags": []
   },
   "outputs": [
    {
     "data": {
      "text/plain": [
       "[]"
      ]
     },
     "execution_count": 5,
     "metadata": {},
     "output_type": "execute_result"
    },
    {
     "data": {
      "image/png": "[encoded data removed]",
      "text/plain": [
       "<Figure size 500x300 with 1 Axes>"
      ]
     },
     "metadata": {},
     "output_type": "display_data"
    },
    {
     "data": {
      "image/png": "[encoded data removed]",
      "text/plain": [
       "<Figure size 500x300 with 1 Axes>"
      ]
     },
     "metadata": {},
     "output_type": "display_data"
    }
   ],
   "source": [
    "### This code cell plots some results of the sim    \n",
    "\n",
    "numplot=20\n",
    "\n",
    "plt.figure(figsize=(5,3))\n",
    "plt.plot(time,re[:,:numplot],color=[1,.8,.8])\n",
    "plt.plot(time,ri[:,-numplot:],color=[.8,.8,1])\n",
    "plt.plot(time,re.mean(axis=1),'r',lw=2,label='e')\n",
    "plt.plot(time,ri.mean(axis=1),'b',lw=2,label='i')    \n",
    "plt.xlabel('time (ms)')\n",
    "plt.ylabel('rate (Hz)')\n",
    "sns.despine()\n",
    "plt.legend()\n",
    "\n",
    "plt.figure(figsize=(5,3))\n",
    "plt.plot(time,X[:,:numplot],color=[.8,1,.8])\n",
    "plt.plot(time,R[:,:numplot],color=[.9,.8,1])\n",
    "plt.plot(time,Z[:,:numplot],color=[.8,.8,.8])\n",
    "plt.plot(time,X.mean(axis=1),color=[.2,.8,.2],lw=2,label='X')\n",
    "plt.plot(time,R.mean(axis=1),color=[.6,.2,.8],lw=2,label='R')\n",
    "plt.plot(time,Z.mean(axis=1),color=[0,0,0],lw=2,label='Z')\n",
    "plt.xlabel('time (ms)')\n",
    "plt.ylabel('input')  \n",
    "sns.despine()\n",
    "plt.legend()\n",
    "\n",
    "[]"
   ]
  }
 ],
 "metadata": {
  "kernelspec": {
   "display_name": "Python 3 (ipykernel)",
   "language": "python",
   "name": "python3"
  },
  "language_info": {
   "codemirror_mode": {
    "name": "ipython",
    "version": 3
   },
   "file_extension": ".py",
   "mimetype": "text/x-python",
   "name": "python",
   "nbconvert_exporter": "python",
   "pygments_lexer": "ipython3",
   "version": "3.11.5"
  }
 },
 "nbformat": 4,
 "nbformat_minor": 5
}
